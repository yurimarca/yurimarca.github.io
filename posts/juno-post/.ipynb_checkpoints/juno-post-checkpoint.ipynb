{
 "cells": [
  {
   "cell_type": "raw",
   "id": "cf8024f5-4e7f-4b39-b0b9-8c82ce5dd7be",
   "metadata": {},
   "source": [
    "---\n",
    "title: New Post\n",
    "date: 2023-07-12\n",
    "description: A nice new post\n",
    "categories: [nonsense, code]\n",
    "---"
   ]
  },
  {
   "cell_type": "markdown",
   "id": "7865f094-3b0b-4966-83b0-177e0bb1676e",
   "metadata": {},
   "source": [
    "## A nice heading\n",
    "\n",
    "Here is some lovely text and an equation.\n",
    "\n",
    "$$ a^2 + b^2 = c^2 $$\n",
    "\n",
    "Here's a list.\n",
    "\n",
    "- a link to an [external website](https://quarto.org).\n",
    "- a link to [another post in this blog](/posts/welcome/index.qmd)."
   ]
  },
  {
   "cell_type": "code",
   "execution_count": 1,
   "id": "7eac65d9-c130-4b3b-939e-272d4806bda7",
   "metadata": {},
   "outputs": [
    {
     "name": "stdout",
     "output_type": "stream",
     "text": [
      "Hello world!\n"
     ]
    }
   ],
   "source": [
    "print(\"Hello world!\")"
   ]
  },
  {
   "cell_type": "code",
   "execution_count": null,
   "id": "bcd90993-e66e-4a69-b592-4d9deaef61a6",
   "metadata": {},
   "outputs": [],
   "source": []
  }
 ],
 "metadata": {
  "kernelspec": {
   "display_name": "Python 3 (ipykernel)",
   "language": "python",
   "name": "python3"
  },
  "language_info": {
   "codemirror_mode": {
    "name": "ipython",
    "version": 3
   },
   "file_extension": ".py",
   "mimetype": "text/x-python",
   "name": "python",
   "nbconvert_exporter": "python",
   "pygments_lexer": "ipython3",
   "version": "3.8.18"
  }
 },
 "nbformat": 4,
 "nbformat_minor": 5
}
